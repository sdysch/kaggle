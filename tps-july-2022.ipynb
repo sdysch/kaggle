{
 "cells": [
  {
   "cell_type": "code",
   "execution_count": 1,
   "id": "cee3aa77",
   "metadata": {
    "_cell_guid": "b1076dfc-b9ad-4769-8c92-a6c4dae69d19",
    "_uuid": "8f2839f25d086af736a60e9eeb907d3b93b6e0e5",
    "execution": {
     "iopub.execute_input": "2022-07-03T16:38:42.913438Z",
     "iopub.status.busy": "2022-07-03T16:38:42.912245Z",
     "iopub.status.idle": "2022-07-03T16:38:44.251452Z",
     "shell.execute_reply": "2022-07-03T16:38:44.249863Z"
    },
    "papermill": {
     "duration": 1.34854,
     "end_time": "2022-07-03T16:38:44.255180",
     "exception": false,
     "start_time": "2022-07-03T16:38:42.906640",
     "status": "completed"
    },
    "tags": []
   },
   "outputs": [],
   "source": [
    "import numpy as np\n",
    "import pandas as pd\n",
    "import matplotlib.pyplot as plt\n",
    "import seaborn as sns"
   ]
  },
  {
   "cell_type": "code",
   "execution_count": 2,
   "id": "c9a8bace",
   "metadata": {
    "execution": {
     "iopub.execute_input": "2022-07-03T16:38:44.262229Z",
     "iopub.status.busy": "2022-07-03T16:38:44.261323Z",
     "iopub.status.idle": "2022-07-03T16:38:44.267258Z",
     "shell.execute_reply": "2022-07-03T16:38:44.265949Z"
    },
    "papermill": {
     "duration": 0.011966,
     "end_time": "2022-07-03T16:38:44.269675",
     "exception": false,
     "start_time": "2022-07-03T16:38:44.257709",
     "status": "completed"
    },
    "tags": []
   },
   "outputs": [],
   "source": [
    "plt.style.use('seaborn')"
   ]
  },
  {
   "cell_type": "code",
   "execution_count": 3,
   "id": "53f538a9",
   "metadata": {
    "execution": {
     "iopub.execute_input": "2022-07-03T16:38:44.275517Z",
     "iopub.status.busy": "2022-07-03T16:38:44.275121Z",
     "iopub.status.idle": "2022-07-03T16:38:45.801438Z",
     "shell.execute_reply": "2022-07-03T16:38:45.800175Z"
    },
    "papermill": {
     "duration": 1.53264,
     "end_time": "2022-07-03T16:38:45.804512",
     "exception": false,
     "start_time": "2022-07-03T16:38:44.271872",
     "status": "completed"
    },
    "tags": []
   },
   "outputs": [],
   "source": [
    "data = pd.read_csv('../input/tabular-playground-series-jul-2022/data.csv', index_col='id')"
   ]
  },
  {
   "cell_type": "code",
   "execution_count": null,
   "id": "89ad8581",
   "metadata": {
    "papermill": {
     "duration": 0.001877,
     "end_time": "2022-07-03T16:38:45.808693",
     "exception": false,
     "start_time": "2022-07-03T16:38:45.806816",
     "status": "completed"
    },
    "tags": []
   },
   "outputs": [],
   "source": []
  }
 ],
 "metadata": {
  "kernelspec": {
   "display_name": "Python 3",
   "language": "python",
   "name": "python3"
  },
  "language_info": {
   "codemirror_mode": {
    "name": "ipython",
    "version": 3
   },
   "file_extension": ".py",
   "mimetype": "text/x-python",
   "name": "python",
   "nbconvert_exporter": "python",
   "pygments_lexer": "ipython3",
   "version": "3.7.12"
  },
  "papermill": {
   "default_parameters": {},
   "duration": 14.721416,
   "end_time": "2022-07-03T16:38:46.735223",
   "environment_variables": {},
   "exception": null,
   "input_path": "__notebook__.ipynb",
   "output_path": "__notebook__.ipynb",
   "parameters": {},
   "start_time": "2022-07-03T16:38:32.013807",
   "version": "2.3.4"
  }
 },
 "nbformat": 4,
 "nbformat_minor": 5
}
