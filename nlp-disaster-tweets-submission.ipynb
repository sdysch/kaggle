{
 "cells": [
  {
   "cell_type": "markdown",
   "id": "87f8b638",
   "metadata": {
    "papermill": {
     "duration": 0.012144,
     "end_time": "2022-02-25T19:59:20.986955",
     "exception": false,
     "start_time": "2022-02-25T19:59:20.974811",
     "status": "completed"
    },
    "tags": []
   },
   "source": [
    "<a href=\"https://www.kaggle.com/sdysch/nlp-disaster-tweets?scriptVersionId=88324181\" target=\"_blank\"><img align=\"left\" alt=\"Kaggle\" title=\"Open in Kaggle\" src=\"https://kaggle.com/static/images/open-in-kaggle.svg\"></a>"
   ]
  },
  {
   "cell_type": "code",
   "execution_count": 1,
   "id": "ec20015b",
   "metadata": {
    "_cell_guid": "b1076dfc-b9ad-4769-8c92-a6c4dae69d19",
    "_uuid": "8f2839f25d086af736a60e9eeb907d3b93b6e0e5",
    "execution": {
     "iopub.execute_input": "2022-02-25T19:59:21.014925Z",
     "iopub.status.busy": "2022-02-25T19:59:21.013407Z",
     "iopub.status.idle": "2022-02-25T19:59:21.023091Z",
     "shell.execute_reply": "2022-02-25T19:59:21.022251Z",
     "shell.execute_reply.started": "2022-02-20T18:19:19.818682Z"
    },
    "papermill": {
     "duration": 0.025112,
     "end_time": "2022-02-25T19:59:21.023227",
     "exception": false,
     "start_time": "2022-02-25T19:59:20.998115",
     "status": "completed"
    },
    "tags": []
   },
   "outputs": [],
   "source": [
    "import numpy as np # linear algebra\n",
    "import pandas as pd # data processing, CSV file I/O (e.g. pd.read_csv)\n",
    "\n",
    "import os"
   ]
  },
  {
   "cell_type": "code",
   "execution_count": 2,
   "id": "dbdb42a4",
   "metadata": {
    "execution": {
     "iopub.execute_input": "2022-02-25T19:59:21.050638Z",
     "iopub.status.busy": "2022-02-25T19:59:21.049877Z",
     "iopub.status.idle": "2022-02-25T19:59:21.107738Z",
     "shell.execute_reply": "2022-02-25T19:59:21.108217Z",
     "shell.execute_reply.started": "2022-02-20T18:19:19.827742Z"
    },
    "papermill": {
     "duration": 0.073583,
     "end_time": "2022-02-25T19:59:21.108379",
     "exception": false,
     "start_time": "2022-02-25T19:59:21.034796",
     "status": "completed"
    },
    "tags": []
   },
   "outputs": [
    {
     "name": "stdout",
     "output_type": "stream",
     "text": [
      "Index(['id', 'keyword', 'location', 'text', 'target'], dtype='object')\n",
      "Index(['id', 'keyword', 'location', 'text'], dtype='object')\n"
     ]
    }
   ],
   "source": [
    "df_train = pd.read_csv('/kaggle/input/nlp-getting-started/train.csv')\n",
    "print(df_train.columns)\n",
    "\n",
    "df_test = pd.read_csv('/kaggle/input/nlp-getting-started/test.csv')\n",
    "print(df_test.columns)"
   ]
  },
  {
   "cell_type": "code",
   "execution_count": 3,
   "id": "736e81ff",
   "metadata": {
    "execution": {
     "iopub.execute_input": "2022-02-25T19:59:21.148527Z",
     "iopub.status.busy": "2022-02-25T19:59:21.147715Z",
     "iopub.status.idle": "2022-02-25T19:59:21.151896Z",
     "shell.execute_reply": "2022-02-25T19:59:21.152281Z",
     "shell.execute_reply.started": "2022-02-20T18:19:19.870834Z"
    },
    "papermill": {
     "duration": 0.032277,
     "end_time": "2022-02-25T19:59:21.152423",
     "exception": false,
     "start_time": "2022-02-25T19:59:21.120146",
     "status": "completed"
    },
    "tags": []
   },
   "outputs": [],
   "source": [
    "# preprocessing, lower case\n",
    "df_train['text'] = df_train['text'].str.lower()\n",
    "df_test['text'] = df_test['text'].str.lower()"
   ]
  },
  {
   "cell_type": "code",
   "execution_count": 4,
   "id": "d7dde18a",
   "metadata": {
    "execution": {
     "iopub.execute_input": "2022-02-25T19:59:21.219666Z",
     "iopub.status.busy": "2022-02-25T19:59:21.177513Z",
     "iopub.status.idle": "2022-02-25T19:59:21.223788Z",
     "shell.execute_reply": "2022-02-25T19:59:21.224196Z",
     "shell.execute_reply.started": "2022-02-20T18:19:19.884731Z"
    },
    "papermill": {
     "duration": 0.060423,
     "end_time": "2022-02-25T19:59:21.224347",
     "exception": false,
     "start_time": "2022-02-25T19:59:21.163924",
     "status": "completed"
    },
    "tags": []
   },
   "outputs": [],
   "source": [
    "# remove URLS\n",
    "import re\n",
    "\n",
    "def remove_urls(text):\n",
    "    url = re.compile(r'https?://\\S+|www\\.\\S+')\n",
    "    \n",
    "    return url.sub(r'', text)\n",
    "\n",
    "df_train['text'] = df_train['text'].apply(remove_urls)\n",
    "df_test['text']  = df_test['text'].apply(remove_urls)"
   ]
  },
  {
   "cell_type": "code",
   "execution_count": 5,
   "id": "5db41777",
   "metadata": {
    "execution": {
     "iopub.execute_input": "2022-02-25T19:59:21.249974Z",
     "iopub.status.busy": "2022-02-25T19:59:21.249192Z",
     "iopub.status.idle": "2022-02-25T19:59:24.217831Z",
     "shell.execute_reply": "2022-02-25T19:59:24.217386Z",
     "shell.execute_reply.started": "2022-02-20T18:19:19.940945Z"
    },
    "papermill": {
     "duration": 2.982249,
     "end_time": "2022-02-25T19:59:24.217997",
     "exception": false,
     "start_time": "2022-02-25T19:59:21.235748",
     "status": "completed"
    },
    "tags": []
   },
   "outputs": [],
   "source": [
    "# removing stop words\n",
    "from nltk.corpus import stopwords\n",
    "def remove_stopwords(text):\n",
    "    sw = stopwords.words('english')\n",
    "    words = text.split(' ')\n",
    "    filtered = [w for w in words if w not in sw]\n",
    "    return ' '.join([str(v) for v in filtered])\n",
    "\n",
    "df_train['text'] = df_train['text'].apply(remove_stopwords)\n",
    "df_test['text']  = df_test['text'].apply(remove_stopwords)"
   ]
  },
  {
   "cell_type": "code",
   "execution_count": 6,
   "id": "42622fc8",
   "metadata": {
    "execution": {
     "iopub.execute_input": "2022-02-25T19:59:24.248592Z",
     "iopub.status.busy": "2022-02-25T19:59:24.247725Z",
     "iopub.status.idle": "2022-02-25T19:59:29.301385Z",
     "shell.execute_reply": "2022-02-25T19:59:29.300951Z",
     "shell.execute_reply.started": "2022-02-20T18:19:21.485098Z"
    },
    "papermill": {
     "duration": 5.071791,
     "end_time": "2022-02-25T19:59:29.301505",
     "exception": false,
     "start_time": "2022-02-25T19:59:24.229714",
     "status": "completed"
    },
    "tags": []
   },
   "outputs": [
    {
     "name": "stdout",
     "output_type": "stream",
     "text": [
      "(7613, 40)\n",
      "(3263, 40)\n"
     ]
    }
   ],
   "source": [
    "from tensorflow.keras.preprocessing.text import Tokenizer\n",
    "from tensorflow.keras.preprocessing.sequence import pad_sequences\n",
    "\n",
    "max_length = 40\n",
    "n_words = 100000\n",
    "tokenizer = Tokenizer(oov_token='<OOV>', num_words=n_words)\n",
    "tokenizer.fit_on_texts(df_train['text'])\n",
    "word_index = tokenizer.word_index\n",
    "\n",
    "training_sequences = tokenizer.texts_to_sequences(df_train['text'])\n",
    "training_padded = pad_sequences(training_sequences, padding='post', maxlen=max_length)\n",
    "\n",
    "testing_sequences = tokenizer.texts_to_sequences(df_test['text'])\n",
    "testing_padded    = pad_sequences(testing_sequences, padding='post', maxlen=max_length)\n",
    "print(training_padded.shape)\n",
    "print(testing_padded.shape)"
   ]
  },
  {
   "cell_type": "markdown",
   "id": "d2f527a6",
   "metadata": {
    "papermill": {
     "duration": 0.011458,
     "end_time": "2022-02-25T19:59:29.324815",
     "exception": false,
     "start_time": "2022-02-25T19:59:29.313357",
     "status": "completed"
    },
    "tags": []
   },
   "source": [
    "# LSTM model"
   ]
  },
  {
   "cell_type": "code",
   "execution_count": 7,
   "id": "3ce1d34f",
   "metadata": {
    "execution": {
     "iopub.execute_input": "2022-02-25T19:59:29.351378Z",
     "iopub.status.busy": "2022-02-25T19:59:29.350561Z",
     "iopub.status.idle": "2022-02-25T19:59:31.991633Z",
     "shell.execute_reply": "2022-02-25T19:59:31.992077Z",
     "shell.execute_reply.started": "2022-02-20T18:19:21.823573Z"
    },
    "papermill": {
     "duration": 2.655697,
     "end_time": "2022-02-25T19:59:31.992238",
     "exception": false,
     "start_time": "2022-02-25T19:59:29.336541",
     "status": "completed"
    },
    "tags": []
   },
   "outputs": [
    {
     "name": "stderr",
     "output_type": "stream",
     "text": [
      "2022-02-25 19:59:29.426314: I tensorflow/stream_executor/cuda/cuda_gpu_executor.cc:937] successful NUMA node read from SysFS had negative value (-1), but there must be at least one NUMA node, so returning NUMA node zero\n",
      "2022-02-25 19:59:29.544669: I tensorflow/stream_executor/cuda/cuda_gpu_executor.cc:937] successful NUMA node read from SysFS had negative value (-1), but there must be at least one NUMA node, so returning NUMA node zero\n",
      "2022-02-25 19:59:29.545507: I tensorflow/stream_executor/cuda/cuda_gpu_executor.cc:937] successful NUMA node read from SysFS had negative value (-1), but there must be at least one NUMA node, so returning NUMA node zero\n",
      "2022-02-25 19:59:29.546796: I tensorflow/core/platform/cpu_feature_guard.cc:142] This TensorFlow binary is optimized with oneAPI Deep Neural Network Library (oneDNN) to use the following CPU instructions in performance-critical operations:  AVX2 AVX512F FMA\n",
      "To enable them in other operations, rebuild TensorFlow with the appropriate compiler flags.\n",
      "2022-02-25 19:59:29.547958: I tensorflow/stream_executor/cuda/cuda_gpu_executor.cc:937] successful NUMA node read from SysFS had negative value (-1), but there must be at least one NUMA node, so returning NUMA node zero\n",
      "2022-02-25 19:59:29.548725: I tensorflow/stream_executor/cuda/cuda_gpu_executor.cc:937] successful NUMA node read from SysFS had negative value (-1), but there must be at least one NUMA node, so returning NUMA node zero\n",
      "2022-02-25 19:59:29.549372: I tensorflow/stream_executor/cuda/cuda_gpu_executor.cc:937] successful NUMA node read from SysFS had negative value (-1), but there must be at least one NUMA node, so returning NUMA node zero\n",
      "2022-02-25 19:59:31.462029: I tensorflow/stream_executor/cuda/cuda_gpu_executor.cc:937] successful NUMA node read from SysFS had negative value (-1), but there must be at least one NUMA node, so returning NUMA node zero\n",
      "2022-02-25 19:59:31.462775: I tensorflow/stream_executor/cuda/cuda_gpu_executor.cc:937] successful NUMA node read from SysFS had negative value (-1), but there must be at least one NUMA node, so returning NUMA node zero\n",
      "2022-02-25 19:59:31.463490: I tensorflow/stream_executor/cuda/cuda_gpu_executor.cc:937] successful NUMA node read from SysFS had negative value (-1), but there must be at least one NUMA node, so returning NUMA node zero\n",
      "2022-02-25 19:59:31.464095: I tensorflow/core/common_runtime/gpu/gpu_device.cc:1510] Created device /job:localhost/replica:0/task:0/device:GPU:0 with 15403 MB memory:  -> device: 0, name: Tesla P100-PCIE-16GB, pci bus id: 0000:00:04.0, compute capability: 6.0\n"
     ]
    },
    {
     "name": "stdout",
     "output_type": "stream",
     "text": [
      "Model: \"sequential\"\n",
      "_________________________________________________________________\n",
      "Layer (type)                 Output Shape              Param #   \n",
      "=================================================================\n",
      "embedding (Embedding)        (None, None, 50)          5000000   \n",
      "_________________________________________________________________\n",
      "lstm (LSTM)                  (None, None, 50)          20200     \n",
      "_________________________________________________________________\n",
      "lstm_1 (LSTM)                (None, 20)                5680      \n",
      "_________________________________________________________________\n",
      "dropout (Dropout)            (None, 20)                0         \n",
      "_________________________________________________________________\n",
      "dense (Dense)                (None, 10)                210       \n",
      "_________________________________________________________________\n",
      "dense_1 (Dense)              (None, 1)                 11        \n",
      "=================================================================\n",
      "Total params: 5,026,101\n",
      "Trainable params: 5,026,101\n",
      "Non-trainable params: 0\n",
      "_________________________________________________________________\n"
     ]
    }
   ],
   "source": [
    "from tensorflow.keras.models import Sequential\n",
    "from tensorflow.keras.layers import Dense, LSTM, Embedding, GlobalAveragePooling1D, Dropout, Bidirectional\n",
    "rnn_model = Sequential()\n",
    "rnn_model.add(Embedding(n_words, 50))\n",
    "#rnn_model.add(Bidirectional(LSTM(50, activation='relu', return_sequences=False)))\n",
    "rnn_model.add(LSTM(50, activation='relu', return_sequences=True))\n",
    "rnn_model.add(LSTM(20, activation='relu', return_sequences=False))\n",
    "rnn_model.add(Dropout(0.2))\n",
    "rnn_model.add(Dense(10, activation='relu'))\n",
    "rnn_model.add(Dense(1, activation='sigmoid'))\n",
    "\n",
    "rnn_model.compile(loss='binary_crossentropy', optimizer='adam', metrics=['accuracy'])\n",
    "\n",
    "rnn_model.summary()"
   ]
  },
  {
   "cell_type": "code",
   "execution_count": 8,
   "id": "532f3e53",
   "metadata": {
    "execution": {
     "iopub.execute_input": "2022-02-25T19:59:32.026754Z",
     "iopub.status.busy": "2022-02-25T19:59:32.026076Z",
     "iopub.status.idle": "2022-02-25T20:01:56.320503Z",
     "shell.execute_reply": "2022-02-25T20:01:56.319493Z",
     "shell.execute_reply.started": "2022-02-20T18:19:21.97302Z"
    },
    "papermill": {
     "duration": 144.31551,
     "end_time": "2022-02-25T20:01:56.320711",
     "exception": false,
     "start_time": "2022-02-25T19:59:32.005201",
     "status": "completed"
    },
    "tags": []
   },
   "outputs": [
    {
     "name": "stdout",
     "output_type": "stream",
     "text": [
      "Epoch 1/4\n"
     ]
    },
    {
     "name": "stderr",
     "output_type": "stream",
     "text": [
      "2022-02-25 19:59:32.073737: I tensorflow/compiler/mlir/mlir_graph_optimization_pass.cc:185] None of the MLIR Optimization Passes are enabled (registered 2)\n"
     ]
    },
    {
     "name": "stdout",
     "output_type": "stream",
     "text": [
      "191/191 [==============================] - 33s 157ms/step - loss: 0.7387 - accuracy: 0.5860 - val_loss: 0.6907 - val_accuracy: 0.5345\n",
      "Epoch 2/4\n",
      "191/191 [==============================] - 30s 157ms/step - loss: 0.6596 - accuracy: 0.6143 - val_loss: 0.6741 - val_accuracy: 0.5844\n",
      "Epoch 3/4\n",
      "191/191 [==============================] - 30s 159ms/step - loss: 0.5043 - accuracy: 0.7892 - val_loss: 0.5353 - val_accuracy: 0.7656\n",
      "Epoch 4/4\n",
      "191/191 [==============================] - 31s 162ms/step - loss: 0.3206 - accuracy: 0.9028 - val_loss: 0.5451 - val_accuracy: 0.7886\n"
     ]
    }
   ],
   "source": [
    "# model is *really* prone to overfitting, only a few epochs needed\n",
    "epochs = 4\n",
    "batch_size = 32\n",
    "\n",
    "y_train = df_train['target']\n",
    "\n",
    "history = rnn_model.fit(training_padded,\n",
    "          y_train,\n",
    "          batch_size=batch_size,\n",
    "          epochs=epochs,\n",
    "          validation_split=0.2,\n",
    "          shuffle=True)"
   ]
  },
  {
   "cell_type": "code",
   "execution_count": 9,
   "id": "ea4ec076",
   "metadata": {
    "execution": {
     "iopub.execute_input": "2022-02-25T20:01:57.655538Z",
     "iopub.status.busy": "2022-02-25T20:01:57.634277Z",
     "iopub.status.idle": "2022-02-25T20:01:57.988544Z",
     "shell.execute_reply": "2022-02-25T20:01:57.988966Z",
     "shell.execute_reply.started": "2022-02-20T18:21:45.701397Z"
    },
    "papermill": {
     "duration": 0.97648,
     "end_time": "2022-02-25T20:01:57.989119",
     "exception": false,
     "start_time": "2022-02-25T20:01:57.012639",
     "status": "completed"
    },
    "tags": []
   },
   "outputs": [
    {
     "data": {
      "image/png": "[encoded data removed]",
      "text/plain": [
       "<Figure size 720x360 with 2 Axes>"
      ]
     },
     "metadata": {
      "needs_background": "light"
     },
     "output_type": "display_data"
    }
   ],
   "source": [
    "import matplotlib.pyplot as plt\n",
    "fig, ax = plt.subplots(1, 2, figsize=(10, 5))\n",
    "\n",
    "ax[0].plot(history.history['loss'], label='Train')\n",
    "ax[0].plot(history.history['val_loss'], label='Validation')\n",
    "ax[0].set_xlabel('epochs')\n",
    "ax[0].set_ylabel('loss')\n",
    "ax[0].legend(loc='best')\n",
    "\n",
    "ax[1].plot(history.history['accuracy'], label='Train')\n",
    "ax[1].plot(history.history['val_accuracy'], label='Validation')\n",
    "ax[1].set_xlabel('epochs')\n",
    "ax[1].set_ylabel('accuracy')\n",
    "ax[1].legend(loc='best')\n",
    "\n",
    "\n",
    "plt.show()"
   ]
  },
  {
   "cell_type": "code",
   "execution_count": 10,
   "id": "d82971d7",
   "metadata": {
    "execution": {
     "iopub.execute_input": "2022-02-25T20:01:58.500267Z",
     "iopub.status.busy": "2022-02-25T20:01:58.499477Z",
     "iopub.status.idle": "2022-02-25T20:01:59.828774Z",
     "shell.execute_reply": "2022-02-25T20:01:59.828251Z",
     "shell.execute_reply.started": "2022-02-20T18:27:14.411566Z"
    },
    "papermill": {
     "duration": 1.589512,
     "end_time": "2022-02-25T20:01:59.828926",
     "exception": false,
     "start_time": "2022-02-25T20:01:58.239414",
     "status": "completed"
    },
    "tags": []
   },
   "outputs": [],
   "source": [
    "y_pred = rnn_model.predict(testing_padded)\n",
    "y_pred[y_pred > 0.5] = 1\n",
    "y_pred[y_pred <= 0.5] = 0\n",
    "y_pred\n",
    "\n",
    "sub = pd.read_csv('/kaggle/input/nlp-getting-started/sample_submission.csv')\n",
    "sub['target'] = y_pred.round(0).astype('int')\n",
    "sub.to_csv('submission.csv', index=False)"
   ]
  },
  {
   "cell_type": "code",
   "execution_count": null,
   "id": "21586567",
   "metadata": {
    "papermill": {
     "duration": 0.258113,
     "end_time": "2022-02-25T20:02:00.346634",
     "exception": false,
     "start_time": "2022-02-25T20:02:00.088521",
     "status": "completed"
    },
    "tags": []
   },
   "outputs": [],
   "source": []
  }
 ],
 "metadata": {
  "kernelspec": {
   "display_name": "Python 3",
   "language": "python",
   "name": "python3"
  },
  "language_info": {
   "codemirror_mode": {
    "name": "ipython",
    "version": 3
   },
   "file_extension": ".py",
   "mimetype": "text/x-python",
   "name": "python",
   "nbconvert_exporter": "python",
   "pygments_lexer": "ipython3",
   "version": "3.7.12"
  },
  "papermill": {
   "default_parameters": {},
   "duration": 171.808281,
   "end_time": "2022-02-25T20:02:04.281690",
   "environment_variables": {},
   "exception": null,
   "input_path": "__notebook__.ipynb",
   "output_path": "__notebook__.ipynb",
   "parameters": {},
   "start_time": "2022-02-25T19:59:12.473409",
   "version": "2.3.3"
  }
 },
 "nbformat": 4,
 "nbformat_minor": 5
}
